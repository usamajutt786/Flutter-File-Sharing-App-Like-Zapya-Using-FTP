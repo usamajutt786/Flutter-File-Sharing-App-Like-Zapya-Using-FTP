{
 "cells": [
  {
   "cell_type": "code",
   "execution_count": 1,
   "id": "b5a8af34",
   "metadata": {},
   "outputs": [],
   "source": [
    "import h5py\n",
    "import matplotlib.pyplot as plt\n",
    "import numpy as np\n",
    "import pickle"
   ]
  },
  {
   "cell_type": "code",
   "execution_count": 2,
   "id": "403e165a",
   "metadata": {},
   "outputs": [],
   "source": [
    "matFilename = r'C:\\Users\\GajeraRonakkumarIPCa\\Desktop\\Data set\\Matlab severson file\\Batch_41,43,40 data\\2017-05-12_batchdata_updated_struct_errorcorrect.mat'\n",
    "f = h5py.File(matFilename)"
   ]
  },
  {
   "cell_type": "code",
   "execution_count": 3,
   "id": "f4788f24",
   "metadata": {},
   "outputs": [
    {
     "data": {
      "text/plain": [
       "['#refs#', '#subsystem#', 'batch', 'batch_date']"
      ]
     },
     "execution_count": 3,
     "metadata": {},
     "output_type": "execute_result"
    }
   ],
   "source": [
    "list(f.keys())"
   ]
  },
  {
   "cell_type": "code",
   "execution_count": 4,
   "id": "5a59362e",
   "metadata": {},
   "outputs": [],
   "source": [
    "batch = f['batch']"
   ]
  },
  {
   "cell_type": "code",
   "execution_count": 5,
   "id": "6c7d66b0",
   "metadata": {},
   "outputs": [
    {
     "data": {
      "text/plain": [
       "['Vdlin',\n",
       " 'barcode',\n",
       " 'channel_id',\n",
       " 'cycle_life',\n",
       " 'cycles',\n",
       " 'policy',\n",
       " 'policy_readable',\n",
       " 'summary']"
      ]
     },
     "execution_count": 5,
     "metadata": {},
     "output_type": "execute_result"
    }
   ],
   "source": [
    "list(batch.keys())"
   ]
  },
  {
   "cell_type": "code",
   "execution_count": 6,
   "id": "ad035489",
   "metadata": {},
   "outputs": [],
   "source": [
    "num_cells = batch['summary'].shape[0]\n",
    "bat_dict = {}\n",
    "for i in range(num_cells):\n",
    "    cl = f[batch['cycle_life'][i, 0]][()]\n",
    "    policy = f[batch['policy_readable'][i, 0]][()]\n",
    "    summary_IR = np.hstack(f[batch['summary'][i, 0]]['IR'][0, :])\n",
    "    summary_QC = np.hstack(f[batch['summary'][i, 0]]['QCharge'][0, :])\n",
    "    summary_QD = np.hstack(f[batch['summary'][i, 0]]['QDischarge'][0, :])\n",
    "    summary_TA = np.hstack(f[batch['summary'][i, 0]]['Tavg'][0, :])\n",
    "    summary_TM = np.hstack(f[batch['summary'][i, 0]]['Tmin'][0, :])\n",
    "    summary_TX = np.hstack(f[batch['summary'][i, 0]]['Tmax'][0, :])\n",
    "    summary_CT = np.hstack(f[batch['summary'][i, 0]]['chargetime'][0, :])\n",
    "    summary_CY = np.hstack(f[batch['summary'][i, 0]]['cycle'][0, :])\n",
    "    summary = {'IR': summary_IR, 'QC': summary_QC, 'QD': summary_QD, 'Tavg':\n",
    "        summary_TA, 'Tmin': summary_TM, 'Tmax': summary_TX, 'chargetime': summary_CT,\n",
    "                'cycle': summary_CY}\n",
    "    cycles = f[batch['cycles'][i, 0]]\n",
    "    cycle_dict = {}\n",
    "    for j in range(cycles['I'].shape[0]):\n",
    "        I = np.hstack((f[cycles['I'][j, 0]][()]))\n",
    "        Qc = np.hstack((f[cycles['Qc'][j, 0]][()]))\n",
    "        Qd = np.hstack((f[cycles['Qd'][j, 0]][()]))\n",
    "        Qdlin = np.hstack((f[cycles['Qdlin'][j, 0]][()]))\n",
    "        T = np.hstack((f[cycles['T'][j, 0]][()]))\n",
    "        Tdlin = np.hstack((f[cycles['Tdlin'][j, 0]][()]))\n",
    "        V = np.hstack((f[cycles['V'][j, 0]][()]))\n",
    "        dQdV = np.hstack((f[cycles['discharge_dQdV'][j, 0]][()]))\n",
    "        t = np.hstack((f[cycles['t'][j, 0]][()]))\n",
    "        cd = {'I': I, 'Qc': Qc, 'Qd': Qd, 'Qdlin': Qdlin, 'T': T, 'Tdlin': Tdlin, 'V': V, 'dQdV': dQdV, 't': t}\n",
    "        cycle_dict[str(j)] = cd\n",
    "\n",
    "    cell_dict = {'cycle_life': cl, 'charge_policy': policy, 'summary': summary, 'cycles': cycle_dict}\n",
    "    key = 'b1c' + str(i)\n",
    "    bat_dict[key] = cell_dict\n",
    "\n",
    "with open('batch11.pkl', 'wb') as fp:\n",
    "    pickle.dump(bat_dict, fp)"
   ]
  },
  {
   "cell_type": "code",
   "execution_count": null,
   "id": "f4e30a00",
   "metadata": {},
   "outputs": [],
   "source": []
  }
 ],
 "metadata": {
  "kernelspec": {
   "display_name": "Python 3 (ipykernel)",
   "language": "python",
   "name": "python3"
  },
  "language_info": {
   "codemirror_mode": {
    "name": "ipython",
    "version": 3
   },
   "file_extension": ".py",
   "mimetype": "text/x-python",
   "name": "python",
   "nbconvert_exporter": "python",
   "pygments_lexer": "ipython3",
   "version": "3.10.9"
  }
 },
 "nbformat": 4,
 "nbformat_minor": 5
}
